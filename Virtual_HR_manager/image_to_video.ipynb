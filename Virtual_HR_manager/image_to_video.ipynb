{
  "cells": [
    {
      "cell_type": "code",
      "execution_count": null,
      "metadata": {
        "colab": {
          "base_uri": "https://localhost:8080/"
        },
        "id": "qJ4CplXsYl_E",
        "outputId": "abaa5873-61da-4cc1-9562-63d8a422443f"
      },
      "outputs": [],
      "source": [
        "!nvidia-smi --query-gpu=name,memory.total,memory.free --format=csv,noheader\n",
        "!apt-get update\n",
        "!apt-get install python3.8\n",
        "!apt-get update\n",
        "!apt-get install python3.9\n",
        "!pip install gtts"
      ]
    },
    {
      "cell_type": "code",
      "execution_count": null,
      "metadata": {
        "colab": {
          "base_uri": "https://localhost:8080/"
        },
        "id": "AHwz6AHmtHTk",
        "outputId": "11e9e5c2-f1c5-44f3-c5f3-261d5acbb894"
      },
      "outputs": [],
      "source": [
        "!ls /usr/bin/python*"
      ]
    },
    {
      "cell_type": "code",
      "execution_count": null,
      "metadata": {
        "colab": {
          "base_uri": "https://localhost:8080/"
        },
        "id": "eLSmyFMDtLMG",
        "outputId": "29252099-1381-4b0b-822b-1aa1192f7b5b"
      },
      "outputs": [],
      "source": [
        "!apt install python3.8-distutils"
      ]
    },
    {
      "cell_type": "code",
      "execution_count": null,
      "metadata": {
        "colab": {
          "base_uri": "https://localhost:8080/"
        },
        "id": "Mdq6j4E5KQAR",
        "outputId": "abb9d0da-0de9-4bce-8767-8c387fa278a2"
      },
      "outputs": [],
      "source": [
        "!update-alternatives --install /usr/local/bin/python3 python3 /usr/bin/python3.8 2\n",
        "!update-alternatives --install /usr/local/bin/python3 python3 /usr/bin/python3.9 1\n",
        "!python --version\n",
        "!apt-get update\n",
        "!apt install software-properties-common\n",
        "!sudo dpkg --remove --force-remove-reinstreq python3-pip python3-setuptools python3-wheel\n",
        "!apt-get install python3-pip\n",
        "\n",
        "print('Git clone project and install requirements...')\n",
        "!git clone https://github.com/Winfredy/SadTalker &> /dev/null\n",
        "%cd SadTalker\n",
        "!export PYTHONPATH=/content/SadTalker:$PYTHONPATH\n",
        "!python3.8 -m pip install torch==1.12.1+cu113 torchvision==0.13.1+cu113 torchaudio==0.12.1 --extra-index-url https://download.pytorch.org/whl/cu113\n",
        "!apt update\n",
        "!apt install ffmpeg &> /dev/null\n",
        "!python3.8 -m pip install -r requirements.txt"
      ]
    },
    {
      "cell_type": "markdown",
      "metadata": {
        "id": "DddcKB_nKsnk"
      },
      "source": [
        "Download models (1 mins)"
      ]
    },
    {
      "cell_type": "code",
      "execution_count": null,
      "metadata": {
        "colab": {
          "base_uri": "https://localhost:8080/"
        },
        "id": "eDw3_UN8K2xa",
        "outputId": "2a1d40d1-e853-4713-d955-bc876bec527b"
      },
      "outputs": [],
      "source": [
        "print('Download pre-trained models...')\n",
        "!rm -rf checkpoints\n",
        "!bash scripts/download_models.sh"
      ]
    },
    {
      "cell_type": "code",
      "execution_count": null,
      "metadata": {
        "colab": {
          "base_uri": "https://localhost:8080/"
        },
        "id": "66gf_2Wp2Q5s",
        "outputId": "15e744c1-2284-455e-a450-e9999772a23e"
      },
      "outputs": [],
      "source": [
        "import pandas as pd\n",
        "\n",
        "# List of questions\n",
        "questions = [\n",
        "    \"Welcome, and thank you for joining us today. We're excited to learn more about you and explore how your skills and experiences align with the opportunities here.\",\n",
        "    \"What is your name?\",\n",
        "    \"What was your percentage in Last semester?\",\n",
        "    \"Do you have any Experience or Internship done for this role\",\n",
        "    \"Where do you see yourself in the next 5 years?\",\n",
        "    \"Why Should we Hire you, Is there anything that makes you different from other candidates?\"\n",
        "]\n",
        "\n",
        "# Create DataFrame\n",
        "df = pd.DataFrame({'Question': questions})\n",
        "\n",
        "# Save DataFrame to CSV\n",
        "df.to_csv('/content/input.csv', index=False)\n",
        "\n",
        "print(\"CSV file generated successfully.\")"
      ]
    },
    {
      "cell_type": "code",
      "execution_count": null,
      "metadata": {
        "colab": {
          "base_uri": "https://localhost:8080/"
        },
        "id": "6Oh-2NOD2bE7",
        "outputId": "ea4b461b-51bf-43db-8f79-1401127fa732"
      },
      "outputs": [],
      "source": [
        "import pandas as pd\n",
        "import cv2\n",
        "import os\n",
        "from gtts import gTTS\n",
        "\n",
        "# Function to convert text to speech\n",
        "def text_to_speech(text, output_file):\n",
        "    tts = gTTS(text=text, lang='en')\n",
        "    tts.save(output_file)\n",
        "\n",
        "# Read questions from CSV file\n",
        "questions_df = pd.read_csv('/content/input.csv')\n",
        "\n",
        "# Create folder to store output audio\n",
        "output_audio_folder = '/content/output_audio'\n",
        "if not os.path.exists(output_audio_folder):\n",
        "    os.makedirs(output_audio_folder)\n",
        "\n",
        "# Process each question\n",
        "for index, row in questions_df.iterrows():\n",
        "    question = row['Question']\n",
        "    print(question)\n",
        "    # Generate audio for the question\n",
        "    audio_file = os.path.join(output_audio_folder, f'question_{index}.mp3')\n",
        "    text_to_speech(question, audio_file)\n",
        "\n",
        "print(\"audios generated successfully.\")"
      ]
    },
    {
      "cell_type": "code",
      "execution_count": null,
      "metadata": {
        "colab": {
          "base_uri": "https://localhost:8080/"
        },
        "id": "2rcS2wpT4BCq",
        "outputId": "0344816d-a8d1-4699-b8cd-f06ba2ff5c9a"
      },
      "outputs": [],
      "source": [
        "import os\n",
        "\n",
        "# Define input and output directories\n",
        "audio_folder = \"path\"\n",
        "output_folder = \"path\"\n",
        "source_image = \"image_here\"\n",
        "\n",
        "# Ensure output folder exists\n",
        "os.makedirs(output_folder, exist_ok=True)\n",
        "\n",
        "# List all audio files in the input folder\n",
        "audio_files = [file for file in os.listdir(audio_folder) if file.endswith(\".mp3\")]\n",
        "\n",
        "# Iterate over each audio file\n",
        "for audio_file in audio_files:\n",
        "    # Generate output filename based on audio file name\n",
        "    output_filename = os.path.splitext(audio_file)[0] + \".mp4\"\n",
        "\n",
        "    # Construct full paths for input audio and output video\n",
        "    audio_path = os.path.join(audio_folder, audio_file)\n",
        "    output_path = os.path.join(output_folder, output_filename)\n",
        "    print(output_filename,audio_path,output_path)\n",
        "    # Execute the command to generate video\n",
        "    command = f\"python3.8 inference.py --driven_audio {audio_path} \\\n",
        "              --source_image {source_image} \\\n",
        "              --result_dir {output_folder} --still --preprocess full --enhancer gfpgan\"\n",
        "    os.system(command)\n",
        "\n",
        "print(\"Videos generated successfully\")"
      ]
    }
  ],
  "metadata": {
    "accelerator": "GPU",
    "colab": {
      "gpuType": "T4",
      "provenance": []
    },
    "kernelspec": {
      "display_name": "Python 3",
      "name": "python3"
    },
    "language_info": {
      "name": "python",
      "version": "3.9.7"
    },
    "vscode": {
      "interpreter": {
        "hash": "db5031b3636a3f037ea48eb287fd3d023feb9033aefc2a9652a92e470fb0851b"
      }
    }
  },
  "nbformat": 4,
  "nbformat_minor": 0
}
